{
 "cells": [
  {
   "cell_type": "code",
   "execution_count": 9,
   "id": "cf8b3257",
   "metadata": {},
   "outputs": [],
   "source": [
    "import pandas as pd\n",
    "import tensorflow as tf\n",
    "from sklearn.model_selection import train_test_split\n",
    "from sklearn.preprocessing import StandardScaler"
   ]
  },
  {
   "cell_type": "code",
   "execution_count": 13,
   "id": "1f50ba1c",
   "metadata": {},
   "outputs": [
    {
     "name": "stderr",
     "output_type": "stream",
     "text": [
      "C:\\Users\\manoj\\AppData\\Local\\Temp\\ipykernel_6732\\3995073957.py:11: SettingWithCopyWarning: \n",
      "A value is trying to be set on a copy of a slice from a DataFrame.\n",
      "Try using .loc[row_indexer,col_indexer] = value instead\n",
      "\n",
      "See the caveats in the documentation: https://pandas.pydata.org/pandas-docs/stable/user_guide/indexing.html#returning-a-view-versus-a-copy\n",
      "  uber_data_cleaned['passenger_count'] = uber_data_cleaned['passenger_count'].astype(int)\n",
      "C:\\Users\\manoj\\AppData\\Local\\Temp\\ipykernel_6732\\3995073957.py:14: SettingWithCopyWarning: \n",
      "A value is trying to be set on a copy of a slice from a DataFrame.\n",
      "Try using .loc[row_indexer,col_indexer] = value instead\n",
      "\n",
      "See the caveats in the documentation: https://pandas.pydata.org/pandas-docs/stable/user_guide/indexing.html#returning-a-view-versus-a-copy\n",
      "  uber_data_cleaned['hour'] = uber_data_cleaned['pickup_datetime'].dt.hour\n",
      "C:\\Users\\manoj\\AppData\\Local\\Temp\\ipykernel_6732\\3995073957.py:15: SettingWithCopyWarning: \n",
      "A value is trying to be set on a copy of a slice from a DataFrame.\n",
      "Try using .loc[row_indexer,col_indexer] = value instead\n",
      "\n",
      "See the caveats in the documentation: https://pandas.pydata.org/pandas-docs/stable/user_guide/indexing.html#returning-a-view-versus-a-copy\n",
      "  uber_data_cleaned['day'] = uber_data_cleaned['pickup_datetime'].dt.day\n",
      "C:\\Users\\manoj\\AppData\\Local\\Temp\\ipykernel_6732\\3995073957.py:16: SettingWithCopyWarning: \n",
      "A value is trying to be set on a copy of a slice from a DataFrame.\n",
      "Try using .loc[row_indexer,col_indexer] = value instead\n",
      "\n",
      "See the caveats in the documentation: https://pandas.pydata.org/pandas-docs/stable/user_guide/indexing.html#returning-a-view-versus-a-copy\n",
      "  uber_data_cleaned['month'] = uber_data_cleaned['pickup_datetime'].dt.month\n",
      "C:\\Users\\manoj\\AppData\\Local\\Temp\\ipykernel_6732\\3995073957.py:17: SettingWithCopyWarning: \n",
      "A value is trying to be set on a copy of a slice from a DataFrame.\n",
      "Try using .loc[row_indexer,col_indexer] = value instead\n",
      "\n",
      "See the caveats in the documentation: https://pandas.pydata.org/pandas-docs/stable/user_guide/indexing.html#returning-a-view-versus-a-copy\n",
      "  uber_data_cleaned['year'] = uber_data_cleaned['pickup_datetime'].dt.year\n",
      "C:\\Users\\manoj\\AppData\\Local\\Temp\\ipykernel_6732\\3995073957.py:18: SettingWithCopyWarning: \n",
      "A value is trying to be set on a copy of a slice from a DataFrame.\n",
      "Try using .loc[row_indexer,col_indexer] = value instead\n",
      "\n",
      "See the caveats in the documentation: https://pandas.pydata.org/pandas-docs/stable/user_guide/indexing.html#returning-a-view-versus-a-copy\n",
      "  uber_data_cleaned['day_of_week'] = uber_data_cleaned['pickup_datetime'].dt.dayofweek\n"
     ]
    },
    {
     "name": "stdout",
     "output_type": "stream",
     "text": [
      "Epoch 1/10\n",
      "5000/5000 [==============================] - 17s 3ms/step - loss: 140.6800 - mae: 6.0179 - val_loss: 103.4630 - val_mae: 5.9277\n",
      "Epoch 2/10\n",
      "5000/5000 [==============================] - 14s 3ms/step - loss: 101.2421 - mae: 5.9643 - val_loss: 102.6761 - val_mae: 5.7953\n",
      "Epoch 3/10\n",
      "5000/5000 [==============================] - 14s 3ms/step - loss: 95.3055 - mae: 5.9691 - val_loss: 102.8003 - val_mae: 5.8610\n",
      "Epoch 4/10\n",
      "5000/5000 [==============================] - 14s 3ms/step - loss: 96.2983 - mae: 5.9622 - val_loss: 102.3177 - val_mae: 5.9431\n",
      "Epoch 5/10\n",
      "5000/5000 [==============================] - 14s 3ms/step - loss: 95.4966 - mae: 5.9701 - val_loss: 102.5056 - val_mae: 6.1086\n",
      "Epoch 6/10\n",
      "5000/5000 [==============================] - 14s 3ms/step - loss: 95.4442 - mae: 5.9561 - val_loss: 102.3003 - val_mae: 6.1222\n",
      "Epoch 7/10\n",
      "5000/5000 [==============================] - 14s 3ms/step - loss: 95.4553 - mae: 5.9659 - val_loss: 102.1530 - val_mae: 6.0203\n",
      "Epoch 8/10\n",
      "5000/5000 [==============================] - 14s 3ms/step - loss: 95.0408 - mae: 5.9585 - val_loss: 102.4475 - val_mae: 6.2317\n",
      "Epoch 9/10\n",
      "5000/5000 [==============================] - 14s 3ms/step - loss: 95.1922 - mae: 5.9612 - val_loss: 102.4466 - val_mae: 6.1890\n",
      "Epoch 10/10\n",
      "5000/5000 [==============================] - 19s 4ms/step - loss: 94.9743 - mae: 5.9559 - val_loss: 102.1371 - val_mae: 6.0616\n",
      "1250/1250 [==============================] - 4s 3ms/step - loss: 102.1371 - mae: 6.0616\n",
      "Mean Absolute Error: 6.061622142791748\n",
      "INFO:tensorflow:Assets written to: uber_fare_model\\assets\n"
     ]
    },
    {
     "name": "stderr",
     "output_type": "stream",
     "text": [
      "INFO:tensorflow:Assets written to: uber_fare_model\\assets\n"
     ]
    }
   ],
   "source": [
    "# Load the dataset\n",
    "uber_data = pd.read_csv('uber.csv')\n",
    "\n",
    "# Convert pickup_datetime to datetime format\n",
    "uber_data['pickup_datetime'] = pd.to_datetime(uber_data['pickup_datetime'], errors='coerce')\n",
    "\n",
    "# Drop rows with missing values\n",
    "uber_data_cleaned = uber_data.dropna()\n",
    "\n",
    "# Convert passenger_count to integer\n",
    "uber_data_cleaned['passenger_count'] = uber_data_cleaned['passenger_count'].astype(int)\n",
    "\n",
    "# Extract features from the pickup_datetime\n",
    "uber_data_cleaned['hour'] = uber_data_cleaned['pickup_datetime'].dt.hour\n",
    "uber_data_cleaned['day'] = uber_data_cleaned['pickup_datetime'].dt.day\n",
    "uber_data_cleaned['month'] = uber_data_cleaned['pickup_datetime'].dt.month\n",
    "uber_data_cleaned['year'] = uber_data_cleaned['pickup_datetime'].dt.year\n",
    "uber_data_cleaned['day_of_week'] = uber_data_cleaned['pickup_datetime'].dt.dayofweek\n",
    "\n",
    "# Select features and target variable\n",
    "features = ['pickup_longitude', 'pickup_latitude', 'dropoff_longitude', 'dropoff_latitude', \n",
    "            'passenger_count', 'hour', 'day', 'month', 'year', 'day_of_week']\n",
    "X = uber_data_cleaned[features]\n",
    "y = uber_data_cleaned['fare_amount']\n",
    "\n",
    "# Split the data into training and testing sets\n",
    "X_train, X_test, y_train, y_test = train_test_split(X, y, test_size=0.2, random_state=42)\n",
    "\n",
    "# Standardize the features\n",
    "scaler = StandardScaler()\n",
    "X_train = scaler.fit_transform(X_train)\n",
    "X_test = scaler.transform(X_test)\n",
    "\n",
    "# Build a simple TensorFlow model\n",
    "model = tf.keras.Sequential([\n",
    "    tf.keras.layers.Dense(64, activation='relu', input_shape=(X_train.shape[1],)),\n",
    "    tf.keras.layers.Dense(64, activation='relu'),\n",
    "    tf.keras.layers.Dense(1)\n",
    "])\n",
    "\n",
    "model.compile(optimizer='adam', loss='mse', metrics=['mae'])\n",
    "\n",
    "# Train the model\n",
    "model.fit(X_train, y_train, epochs=10, validation_data=(X_test, y_test))\n",
    "\n",
    "# Evaluate the model\n",
    "loss, mae = model.evaluate(X_test, y_test)\n",
    "print(f'Mean Absolute Error: {mae}')\n",
    "\n",
    "# Save the model\n",
    "model.save('uber_fare_model')"
   ]
  },
  {
   "cell_type": "code",
   "execution_count": 14,
   "id": "6ba1a863",
   "metadata": {},
   "outputs": [],
   "source": [
    "# Convert the model to TensorFlow Lite format\n",
    "converter = tf.lite.TFLiteConverter.from_saved_model('uber_fare_model')\n",
    "tflite_model = converter.convert()\n",
    "\n",
    "# Save the TensorFlow Lite model\n",
    "with open('uber_fare_model.tflite', 'wb') as f:\n",
    "    f.write(tflite_model)"
   ]
  },
  {
   "cell_type": "code",
   "execution_count": null,
   "id": "5c249c6d",
   "metadata": {},
   "outputs": [],
   "source": []
  }
 ],
 "metadata": {
  "kernelspec": {
   "display_name": "Python 3 (ipykernel)",
   "language": "python",
   "name": "python3"
  },
  "language_info": {
   "codemirror_mode": {
    "name": "ipython",
    "version": 3
   },
   "file_extension": ".py",
   "mimetype": "text/x-python",
   "name": "python",
   "nbconvert_exporter": "python",
   "pygments_lexer": "ipython3",
   "version": "3.11.5"
  }
 },
 "nbformat": 4,
 "nbformat_minor": 5
}
